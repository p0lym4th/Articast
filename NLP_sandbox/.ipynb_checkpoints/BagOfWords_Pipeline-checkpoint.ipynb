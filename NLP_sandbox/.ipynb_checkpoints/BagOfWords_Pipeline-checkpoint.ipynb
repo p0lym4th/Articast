{
 "cells": [
  {
   "cell_type": "markdown",
   "metadata": {},
   "source": [
    "<h1>\n",
    "Bag of words pipeline\n",
    "</h1>\n",
    "<h4>\n",
    "This notebook goes over the establishment of a 'bag-of-words' (BoW) import pipeline on several news articles\n",
    "</h4>"
   ]
  },
  {
   "cell_type": "code",
   "execution_count": 1,
   "metadata": {},
   "outputs": [],
   "source": [
    "#General import statements\n",
    "import os\n",
    "import numpy as np\n",
    "import nltk\n",
    "import matplotlib.pyplot as plt\n",
    "import seaborn as sns\n",
    "import scipy\n",
    "\n",
    "from sklearn.feature_extraction.text import CountVectorizer\n",
    "from sklearn.feature_extraction.text import TfidfVectorizer\n"
   ]
  },
  {
   "cell_type": "markdown",
   "metadata": {},
   "source": [
    "<h2>\n",
    "To start, we can define a few sample \"documents\" to investiage the document vectorization protocols\n",
    "</h2>"
   ]
  },
  {
   "cell_type": "code",
   "execution_count": 11,
   "metadata": {},
   "outputs": [
    {
     "data": {
      "image/png": "[encoded data removed]",
      "text/plain": [
       "<Figure size 432x288 with 2 Axes>"
      ]
     },
     "metadata": {
      "needs_background": "light"
     },
     "output_type": "display_data"
    },
    {
     "data": {
      "image/png": "[encoded data removed]",
      "text/plain": [
       "<Figure size 432x288 with 2 Axes>"
      ]
     },
     "metadata": {
      "needs_background": "light"
     },
     "output_type": "display_data"
    }
   ],
   "source": [
    "Article_1 = \"This is the first article\"\n",
    "Article_2 = \"This is the second article\"\n",
    "Article_3 = \"The third article is here\"\n",
    "Article_4 = \"Fourth article here is it\"\n",
    "Article_5 = \"This is a gibberish sentence which is not an article\"\n",
    "\n",
    "Corpus = [Article_1,Article_2,Article_3,Article_4,Article_5]\n",
    "\n",
    "#These are two different vectorization schemes from the sklearn docs, here we initialize them as objects\n",
    "CountVec = CountVectorizer()\n",
    "TfidfVec = TfidfVectorizer()\n",
    "\n",
    "#Fit the vectorizations to the document corpus\n",
    "CountMatrix = CountVec.fit_transform(Corpus)\n",
    "TfidfMatrix = TfidfVec.fit_transform(Corpus)\n",
    "\n",
    "#The matrix vectorization data is stored in a sparse-matrix format, so we need to convert it back\n",
    "#to a dense format\n",
    "CountDense = scipy.sparse.csr_matrix.todense(CountMatrix)\n",
    "TfidfDense = scipy.sparse.csr_matrix.todense(TfidfMatrix)\n",
    "\n",
    "sns.heatmap(CountDense)\n",
    "plt.title(\"Count vectorizer\",fontsize=16)\n",
    "plt.show()\n",
    "plt.close()\n",
    "\n",
    "sns.heatmap(TfidfDense)\n",
    "plt.title(\"Tf-idf vectorizer\",fontsize=16)\n",
    "plt.show()\n",
    "plt.close()"
   ]
  },
  {
   "cell_type": "markdown",
   "metadata": {},
   "source": [
    "<h2>\n",
    "So, the two vectorizers work differently (obviously), the Tf-idf vectorizer appears to impose a larger variation amongst the different words.  Now we can look at what words are getting the most weight in each case.\n",
    "</h2>"
   ]
  },
  {
   "cell_type": "code",
   "execution_count": 24,
   "metadata": {},
   "outputs": [
    {
     "data": {
      "text/plain": [
       "[array([u'this', u'is', u'the', u'first', u'article'], dtype='<U9'),\n",
       " array([u'this', u'is', u'the', u'article', u'second'], dtype='<U9'),\n",
       " array([u'is', u'the', u'article', u'third', u'here'], dtype='<U9'),\n",
       " array([u'is', u'article', u'here', u'fourth', u'it'], dtype='<U9'),\n",
       " array([u'this', u'is', u'article', u'gibberish', u'sentence', u'which',\n",
       "        u'not', u'an'], dtype='<U9')]"
      ]
     },
     "execution_count": 24,
     "metadata": {},
     "output_type": "execute_result"
    }
   ],
   "source": [
    "#This finds the matrix indices corresponding to the largest elements\n",
    "#for the COunt vectorizer and Tf-idf vectorizer\n",
    "CountIndex = np.unravel_index(CountDense.argmax(), CountMatrix.shape)\n",
    "TfidfIndex = np.unravel_index(TfidfDense.argmax(), TfidfMatrix.shape)\n",
    "\n"
   ]
  },
  {
   "cell_type": "markdown",
   "metadata": {},
   "source": [
    "<h2>\n",
    " For a more realistic example, we define a function to read in the real   \n",
    "</h2>"
   ]
  },
  {
   "cell_type": "code",
   "execution_count": 7,
   "metadata": {},
   "outputs": [],
   "source": [
    "def ReadArticle(Path,Filename):\n",
    "    \n",
    "    CompleteName = os.path.join(Path,Filename)\n",
    "    file1 = open(CompleteName,'r')\n",
    "    Content = file1.readlines()\n",
    "    file1.close()\n",
    "    \n",
    "    return Content\n",
    "\n",
    "#Path and filenames are 'test articles' from the archive on quillette.com\n",
    "ReadPath = \"TestArticles/\"\n",
    "\n",
    "ReadName_1 = \"Article_1.txt\"\n",
    "ReadName_2 = \"Article_2.txt\"\n",
    "ReadName_3 = \"Article_3.txt\"\n",
    "ReadName_4 = \"Article_4.txt\"\n",
    "\n",
    "#Each content variable contains a list of strings, each containing a paragraph of the article\n",
    "Content_1 = ReadArticle(ReadPath,ReadName_1)\n",
    "Content_2 = ReadArticle(ReadPath,ReadName_2)\n",
    "Content_3 = ReadArticle(ReadPath,ReadName_3)\n",
    "Content_4 = ReadArticle(ReadPath,ReadName_4)\n"
   ]
  },
  {
   "cell_type": "markdown",
   "metadata": {},
   "source": [
    "<h2>\n",
    "Now we define a function to split the articles into individual words and remove punctuation and stop words\n",
    "</h2>"
   ]
  },
  {
   "cell_type": "code",
   "execution_count": 9,
   "metadata": {},
   "outputs": [],
   "source": [
    "def SplitArticle(Content):\n",
    "        SplitContent = []\n",
    "        \n",
    "        for index in range(len(Content)):\n",
    "            Parsed = Content[index].split()                               #Split each paragraph into the individual words\n",
    "            for indexInner in range(len(Parsed)):\n",
    "                SplitContent.append(Parsed[indexInner].replace(\".\",\"\"))   #Append each word to the SplitContent array and remove any periods\n",
    "                \n",
    "        return SplitContent\n",
    "    \n",
    "SplitContent_1 = SplitArticle(Content_1)\n",
    "SplitContent_2 = SplitArticle(Content_2)\n",
    "SplitContent_3 = SplitArticle(Content_3)\n",
    "SplitContent_4 = SplitArticle(Content_4)"
   ]
  },
  {
   "cell_type": "markdown",
   "metadata": {},
   "source": [
    "<h2>\n",
    "Next, we need to do some data cleaning, namely we want to remove stop words, and apply a linguistic stemmer to reduce semantic overlap\n",
    "</h2>"
   ]
  },
  {
   "cell_type": "code",
   "execution_count": null,
   "metadata": {},
   "outputs": [],
   "source": []
  }
 ],
 "metadata": {
  "kernelspec": {
   "display_name": "Python 2",
   "language": "python",
   "name": "python2"
  },
  "language_info": {
   "codemirror_mode": {
    "name": "ipython",
    "version": 2
   },
   "file_extension": ".py",
   "mimetype": "text/x-python",
   "name": "python",
   "nbconvert_exporter": "python",
   "pygments_lexer": "ipython2",
   "version": "2.7.15"
  }
 },
 "nbformat": 4,
 "nbformat_minor": 2
}
